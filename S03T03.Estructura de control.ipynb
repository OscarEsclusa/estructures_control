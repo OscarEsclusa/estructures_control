{
 "cells": [
  {
   "cell_type": "markdown",
   "id": "b650cc4b",
   "metadata": {},
   "source": [
    "# Nivell 1"
   ]
  },
  {
   "cell_type": "markdown",
   "id": "f3acda85",
   "metadata": {},
   "source": [
    "#### Exercici 1\n",
    "\n",
    "L'exercici consisteix a crear un programa que et classifiqui una variable numèrica en funció de l’escala Suspès/Aprovat/Notable/Excel·lent."
   ]
  },
  {
   "cell_type": "code",
   "execution_count": 5,
   "id": "a06c369f",
   "metadata": {},
   "outputs": [
    {
     "name": "stdout",
     "output_type": "stream",
     "text": [
      "Notable\n"
     ]
    }
   ],
   "source": [
    "nota = 8             #store the given note in a variable\n",
    "if nota < 5:         #we use the if/else condition to check the variable and print the correct string\n",
    "    print(\"Suspes\")  \n",
    "elif nota < 7:\n",
    "    print(\"Aprovat\")\n",
    "elif nota < 9:\n",
    "    print(\"Notable\")\n",
    "else:\n",
    "    print(\"Excel·lent\")"
   ]
  },
  {
   "cell_type": "markdown",
   "id": "a7b3329e",
   "metadata": {},
   "source": [
    "____"
   ]
  },
  {
   "cell_type": "markdown",
   "id": "02d61875",
   "metadata": {},
   "source": [
    "#### Exercici 1.2 ####\n",
    "\n",
    "Utilitzant el següent tutorial Programiz: Python Input, Output and Import crea un programa que et pregunti dos números. T’ha de mostrar un missatge dient si el primer és més gran, el segon és més gran o són iguals."
   ]
  },
  {
   "cell_type": "code",
   "execution_count": 3,
   "id": "868afe7d",
   "metadata": {
    "scrolled": true
   },
   "outputs": [
    {
     "name": "stdout",
     "output_type": "stream",
     "text": [
      "Introdueix el primer nombre: 4\n",
      "Introdueix el segon nombre: 2\n",
      "El primer nombre es mes gran que el segon\n"
     ]
    }
   ],
   "source": [
    "num1 = input(\"Introdueix el primer nombre: \") #with the input statement we ask the user for 2 numbers\n",
    "num2 = input(\"Introdueix el segon nombre: \")  \n",
    "if num1 == num2:                              #with the if/else condition compare the numbers and print the correct string\n",
    "    print(\"Els dos nombres son iguals\")\n",
    "elif num1 > num2:\n",
    "    print(\"El primer nombre es mes gran que el segon\")\n",
    "elif num1 < num2:\n",
    "    print(\"El primer nombre es mes petit que el segon\")"
   ]
  },
  {
   "cell_type": "markdown",
   "id": "471dbb97",
   "metadata": {},
   "source": [
    "____"
   ]
  },
  {
   "cell_type": "markdown",
   "id": "3d30e5f2",
   "metadata": {},
   "source": [
    "#### Exercici 1.3 ####\n",
    "\n",
    "Crea un programa que et pregunti el teu nom, i et demani un número. Si el número és 0, hauria de mostrar un missatge d’error. En cas contrari, hauria de mostrar el nom repetit tants cops com indiqui el número. Per exemple, “Joan Joan Joan”."
   ]
  },
  {
   "cell_type": "code",
   "execution_count": 10,
   "id": "10110718",
   "metadata": {},
   "outputs": [
    {
     "name": "stdout",
     "output_type": "stream",
     "text": [
      "Introdueix el teu nom: oscar\n",
      "Introdueix un numero: 3\n",
      "oscaroscaroscar\n"
     ]
    }
   ],
   "source": [
    "nom = input(\"Introdueix el teu nom: \") #with the input statement we ask the user for his name and the number of times to print\n",
    "num = input(\"Introdueix un numero: \")\n",
    "if num == '0':                         #if the number is 0 we report the user that this is not a valid value\n",
    "    print(\"Aquest valor no es valid.\")\n",
    "else:\n",
    "    print(nom*int(num))                #finally we print the name n times"
   ]
  },
  {
   "cell_type": "markdown",
   "id": "435c920c",
   "metadata": {},
   "source": [
    "#### Exercici 1.4\n",
    "\n",
    "Crea un programa que donada una llista qualsevol, et digui si es simètrica o no. Si ho és, que et digui quants elements té."
   ]
  },
  {
   "cell_type": "code",
   "execution_count": 50,
   "id": "b081e9f2",
   "metadata": {},
   "outputs": [
    {
     "name": "stdout",
     "output_type": "stream",
     "text": [
      "La llista es simetrica\n"
     ]
    }
   ],
   "source": [
    "llista = [1,2,3,1,2,3]\n",
    "n = len(llista)                             #store the length of the srting in a variable\n",
    "if n%2:                                     #find the middle index of the string\n",
    "    mid = n//2+1\n",
    "else:\n",
    "    mid = n//2\n",
    "start = 0                                   #definde the start and mid values\n",
    "end = mid\n",
    "while(start<mid & end<n):                   #run a loop from start to end and check characters for similarity\n",
    "    if(llista[start] == llista[end]):\n",
    "        start = start+1\n",
    "        end = end+1\n",
    "        print(\"La llista es simetrica\")\n",
    "    else:\n",
    "        print(n)"
   ]
  },
  {
   "cell_type": "markdown",
   "id": "868cb7ed",
   "metadata": {},
   "source": [
    "____"
   ]
  },
  {
   "cell_type": "markdown",
   "id": "b55abad3",
   "metadata": {},
   "source": [
    "#### Exercici 1.5\n",
    "\n",
    "Crea un programa que donada una llista, et digui quants números coincideixen amb la seva posició. Per exemple [3,4,2,0,2,3,6] el 2 i el 6 coincideixen."
   ]
  },
  {
   "cell_type": "code",
   "execution_count": 51,
   "id": "ec4ac301",
   "metadata": {},
   "outputs": [
    {
     "name": "stdout",
     "output_type": "stream",
     "text": [
      "[2, 2, 6]\n"
     ]
    }
   ],
   "source": [
    "llista = [3,4,2,0,2,3,6]                 \n",
    "novaLlista = []                            #created a new list where will store the correct values\n",
    "for i in llista:                           #run a loop and compare every value with its index in list\n",
    "    if i == llista[i]:\n",
    "        novaLlista.append(llista[i])               \n",
    "print(novaLlista)                          #print new list"
   ]
  },
  {
   "cell_type": "markdown",
   "id": "95fc7b7c",
   "metadata": {},
   "source": [
    "___"
   ]
  }
 ],
 "metadata": {
  "kernelspec": {
   "display_name": "Python 3",
   "language": "python",
   "name": "python3"
  },
  "language_info": {
   "codemirror_mode": {
    "name": "ipython",
    "version": 3
   },
   "file_extension": ".py",
   "mimetype": "text/x-python",
   "name": "python",
   "nbconvert_exporter": "python",
   "pygments_lexer": "ipython3",
   "version": "3.8.8"
  }
 },
 "nbformat": 4,
 "nbformat_minor": 5
}
